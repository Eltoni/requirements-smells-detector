{
 "cells": [
  {
   "cell_type": "code",
   "execution_count": 1,
   "metadata": {},
   "outputs": [],
   "source": [
    "import sys\n",
    "import pandas as pd\n",
    "from helpers.plot_helper import PlotHelper\n",
    "from math import sqrt"
   ]
  },
  {
   "cell_type": "markdown",
   "metadata": {},
   "source": [
    "### Load JSON dataset by pandas"
   ]
  },
  {
   "cell_type": "code",
   "execution_count": 2,
   "metadata": {
    "scrolled": true
   },
   "outputs": [],
   "source": [
    "ratings_grade_inflation2_dataframe = pd.read_json('../data/ratings_grade_inflation2.json')\n",
    "ratings_grade_inflation2_dict = ratings_grade_inflation2_dataframe.to_dict()"
   ]
  },
  {
   "cell_type": "markdown",
   "metadata": {},
   "source": [
    "### Display dataset"
   ]
  },
  {
   "cell_type": "code",
   "execution_count": 3,
   "metadata": {},
   "outputs": [
    {
     "data": {
      "text/html": [
       "<div>\n",
       "<style scoped>\n",
       "    .dataframe tbody tr th:only-of-type {\n",
       "        vertical-align: middle;\n",
       "    }\n",
       "\n",
       "    .dataframe tbody tr th {\n",
       "        vertical-align: top;\n",
       "    }\n",
       "\n",
       "    .dataframe thead th {\n",
       "        text-align: right;\n",
       "    }\n",
       "</style>\n",
       "<table border=\"1\" class=\"dataframe\">\n",
       "  <thead>\n",
       "    <tr style=\"text-align: right;\">\n",
       "      <th></th>\n",
       "      <th>Interstellar</th>\n",
       "      <th>Inception</th>\n",
       "      <th>Hangover</th>\n",
       "    </tr>\n",
       "  </thead>\n",
       "  <tbody>\n",
       "    <tr>\n",
       "      <th>u1</th>\n",
       "      <td>1</td>\n",
       "      <td>1</td>\n",
       "      <td>4</td>\n",
       "    </tr>\n",
       "    <tr>\n",
       "      <th>u2</th>\n",
       "      <td>2</td>\n",
       "      <td>2</td>\n",
       "      <td>3</td>\n",
       "    </tr>\n",
       "    <tr>\n",
       "      <th>u3</th>\n",
       "      <td>3</td>\n",
       "      <td>3</td>\n",
       "      <td>2</td>\n",
       "    </tr>\n",
       "    <tr>\n",
       "      <th>u4</th>\n",
       "      <td>4</td>\n",
       "      <td>4</td>\n",
       "      <td>1</td>\n",
       "    </tr>\n",
       "  </tbody>\n",
       "</table>\n",
       "</div>"
      ],
      "text/plain": [
       "    Interstellar  Inception  Hangover\n",
       "u1             1          1         4\n",
       "u2             2          2         3\n",
       "u3             3          3         2\n",
       "u4             4          4         1"
      ]
     },
     "metadata": {},
     "output_type": "display_data"
    }
   ],
   "source": [
    "ratings_grade_inflation2_dataframe = ratings_grade_inflation2_dataframe\n",
    "display(ratings_grade_inflation2_dataframe)"
   ]
  },
  {
   "cell_type": "markdown",
   "metadata": {},
   "source": [
    "### implementation"
   ]
  },
  {
   "cell_type": "code",
   "execution_count": 6,
   "metadata": {},
   "outputs": [
    {
     "name": "stdout",
     "output_type": "stream",
     "text": [
      "Interstellar-Inception:1.000000\n",
      "Interstellar-Hangover:0.666667\n"
     ]
    }
   ],
   "source": [
    "def dot(A,B): \n",
    "    return (sum(a*b for a,b in zip(A,B)))\n",
    "\n",
    "def get_cosine_similarity(rating1,rating2):\n",
    "    a = rating1.values()\n",
    "    b = rating2.values()\n",
    "    return dot(a,b) / ( (dot(a,a) **.5) * (dot(b,b) ** .5) )\n",
    "\n",
    "dt= ratings_grade_inflation2_dict\n",
    "\n",
    "print('Interstellar-Inception:%f'%get_cosine_similarity(dt['Interstellar'],dt['Inception']))\n",
    "print('Interstellar-Hangover:%f'%+get_cosine_similarity(dt['Interstellar'],dt['Hangover']))"
   ]
  },
  {
   "cell_type": "code",
   "execution_count": 5,
   "metadata": {},
   "outputs": [
    {
     "name": "stdout",
     "output_type": "stream",
     "text": [
      "Interstellar-Inception:1.000000\n",
      "Interstellar-Hangover:-1.000000\n"
     ]
    }
   ],
   "source": [
    "def mean(lst): \n",
    "    return sum(lst) / len(lst) \n",
    "\n",
    "def dot(A,B,a_mean,b_mean): \n",
    "    return (sum((a-a_mean)*(b-b_mean) for a,b in zip(A,B)))\n",
    "\n",
    "def get_adjusted_cosine_similarity(rating1,rating2):\n",
    "    a = rating1.values()\n",
    "    a_mean = mean(a)\n",
    "    b = rating2.values()\n",
    "    b_mean = mean(b)\n",
    "    return dot(a,b,a_mean,b_mean) / ( (dot(a,a,a_mean,a_mean) **.5) * (dot(b,b,b_mean,b_mean) ** .5) )\n",
    "\n",
    "print('Interstellar-Inception:%f'%get_adjusted_cosine_similarity(dt['Interstellar'],dt['Inception']))\n",
    "print('Interstellar-Hangover:%f'%+get_adjusted_cosine_similarity(dt['Interstellar'],dt['Hangover']))"
   ]
  }
 ],
 "metadata": {
  "kernelspec": {
   "display_name": "Python 3",
   "language": "python",
   "name": "python3"
  },
  "language_info": {
   "codemirror_mode": {
    "name": "ipython",
    "version": 3
   },
   "file_extension": ".py",
   "mimetype": "text/x-python",
   "name": "python",
   "nbconvert_exporter": "python",
   "pygments_lexer": "ipython3",
   "version": "3.7.6"
  }
 },
 "nbformat": 4,
 "nbformat_minor": 4
}
